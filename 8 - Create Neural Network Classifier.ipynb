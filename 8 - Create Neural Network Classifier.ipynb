{
 "cells": [
  {
   "cell_type": "code",
   "execution_count": 1,
   "id": "942b3228",
   "metadata": {},
   "outputs": [],
   "source": [
    "import pandas as pd\n",
    "import numpy as np\n",
    "import tensorflow as tf\n",
    "from tensorflow.keras import Sequential\n",
    "from tensorflow.keras.layers import Dense\n",
    "from tensorflow.keras.callbacks import EarlyStopping\n",
    "import matplotlib.pyplot as plt"
   ]
  },
  {
   "cell_type": "code",
   "execution_count": 2,
   "id": "618858ed",
   "metadata": {},
   "outputs": [],
   "source": [
    "from sklearn.model_selection import train_test_split\n",
    "from sklearn.metrics import accuracy_score, roc_auc_score, roc_curve\n",
    "from sklearn.metrics import confusion_matrix, ConfusionMatrixDisplay, classification_report\n",
    "from sklearn.utils import class_weight"
   ]
  },
  {
   "cell_type": "code",
   "execution_count": 3,
   "id": "90059825",
   "metadata": {},
   "outputs": [],
   "source": [
    "tf.keras.backend.set_floatx('float64')"
   ]
  },
  {
   "cell_type": "code",
   "execution_count": 4,
   "id": "94bbabec",
   "metadata": {},
   "outputs": [],
   "source": [
    "#Reading all data\n",
    "df_All_NoAge = pd.read_csv(\"all_data_no_ages.csv\")\n",
    "df_All_Age = pd.read_csv(\"all_data_with_ages.csv\")\n",
    "#df_Primary_NoAge = pd.read_csv(\"primary_data_no_ages.csv\")\n",
    "#df_Primary_Age = pd.read_csv(\"primary_data_with_ages.csv\")"
   ]
  },
  {
   "cell_type": "code",
   "execution_count": 5,
   "id": "4606ebe0",
   "metadata": {},
   "outputs": [],
   "source": [
    "#Create a list of datasets\n",
    "#datasets_for_modeling = [df_All_NoAge, df_All_Age, df_Primary_NoAge, df_Primary_Age]\n",
    "datasets_for_modeling = [df_All_Age]\n",
    "#dataset names\n",
    "#dataset_names=['df_All_NoAge', 'df_All_Age', 'df_Primary_NoAge', 'df_Primary_Age']\n",
    "dataset_names=[ 'df_All_Age']"
   ]
  },
  {
   "cell_type": "code",
   "execution_count": 6,
   "id": "e1a3a953",
   "metadata": {},
   "outputs": [],
   "source": [
    "target_base_codes =['E11','N18','I10','I25','C50','C18']"
   ]
  },
  {
   "cell_type": "code",
   "execution_count": 7,
   "id": "f4da7920",
   "metadata": {},
   "outputs": [],
   "source": [
    "def get_predictor_codes(edges, exclusions, input_code, limit = 20):\n",
    "    # Function to automatically identify the top *limit* possible predictor ICD10 codes.\n",
    "    # Inputs:\n",
    "    # edges = a dataframe of ICD10 Base Code edges and their associated weights that represent how often the nodes co-occur in the same Member Life ID\n",
    "    # exclusions = list of icd10 Base Codes ignore when selecting predictor variables\n",
    "    # input_code = the ICD10 Base Code which we are interested in finding associated predictor ICD10 base codes for\n",
    "    # limit =  the number of predictor ICD10 Base Codes to identify\n",
    "    filtered_edges = edges.loc[edges['Edge'].str.contains(input_code)].sort_values(by = ['Weight', 'Source', 'Target'], ascending = [False, True, True]).reset_index(drop=True)\n",
    "\n",
    "    # If there are exclusions remove edges where the other base code is in the exclusion list \n",
    "    if len(exclusions) != 0:\n",
    "        filtered_edges = filtered_edges.loc[~filtered_edges['Edge'].str.contains('|'.join(exclusions))].reset_index(drop=True)\n",
    "\n",
    "    # Return the other base code of the pair\n",
    "    other_codes = [''] * limit\n",
    "    other_desc = [''] * limit\n",
    "    weights = [''] * limit\n",
    "\n",
    "    for i in range(limit):\n",
    "        current_source = filtered_edges['Source'].iloc[i]\n",
    "        current_source_desc = filtered_edges['Source Description'].iloc[i]\n",
    "        current_target = filtered_edges['Target'].iloc[i]\n",
    "        current_target_desc = filtered_edges['Target Description'].iloc[i]\n",
    "\n",
    "        if current_source == input_code:\n",
    "            other_codes[i] = current_target\n",
    "            other_desc[i] = current_target_desc\n",
    "        else:\n",
    "            other_codes[i] = current_source\n",
    "            other_desc[i] = current_source_desc\n",
    "        weights[i] = filtered_edges['Weight'].iloc[i]\n",
    "    return (other_codes, other_desc, weights)"
   ]
  },
  {
   "cell_type": "code",
   "execution_count": 8,
   "id": "79656647",
   "metadata": {},
   "outputs": [],
   "source": [
    "# Load in the edges file and exclusions file\n",
    "edges = pd.read_csv('edges.csv')\n",
    "exclusions = pd.read_csv('exclusions.csv')\n",
    "exclusion_list = exclusions['Base Code'].to_list()"
   ]
  },
  {
   "cell_type": "code",
   "execution_count": 23,
   "id": "08c2119b",
   "metadata": {},
   "outputs": [],
   "source": [
    "import csv\n",
    "list_of_target_ICD10_codes=['E11','N18','I10','I25','C50','C18']\n",
    "with open('Predictors Codes.csv', mode='w') as pred_file:\n",
    "    pred_file_Writer = csv.writer(pred_file, delimiter=',', quotechar='\"', quoting=csv.QUOTE_MINIMAL)\n",
    "    pred_file_Writer.writerow(['Model','Predictor 1','Predictor 2','Predictor 3','Predictor 4','Predictor 5','Predictor 6','Predictor 7','Predictor 8','Predictor 9','Predictor 10','Predictor 11','Predictor 12','Predictor 13','Predictor 14','Predictor 15','Predictor 16','Predictor 17','Predictor 18','Predictor 19','Predictor 20'])\n",
    "    for target_code in list_of_target_ICD10_codes:\n",
    "        pred_codes,_,_=get_predictor_codes(edges, exclusion_list, target_code)\n",
    "        pred_file_Writer.writerow(pred_codes)"
   ]
  },
  {
   "cell_type": "code",
   "execution_count": 25,
   "id": "7aef53fc",
   "metadata": {},
   "outputs": [],
   "source": [
    "#predictors_used = pd.read_excel(\"Predictors Used.xlsx\")\n",
    "predictors_used = pd.read_csv(\"Predictors Codes.csv\")"
   ]
  },
  {
   "cell_type": "markdown",
   "id": "d4ddc20b",
   "metadata": {},
   "source": [
    "### Using a Neural Network - Binary Classification"
   ]
  },
  {
   "cell_type": "code",
   "execution_count": null,
   "id": "fcee4816",
   "metadata": {},
   "outputs": [],
   "source": [
    "#predictors_used[predictors_used['Model'] == target_code].to_numpy().reshape(21,).tolist()[1:]"
   ]
  },
  {
   "cell_type": "code",
   "execution_count": 14,
   "id": "d3e30b27",
   "metadata": {},
   "outputs": [],
   "source": [
    "def create_neural_network_model(dataset, target_code, dataset_name, use_subset, threshold):\n",
    "    # Set F = 1 and M = 0 in the Biological Gender Column\n",
    "    df_model = dataset.replace({'F':1, 'M':0})\n",
    "    \n",
    "    #Remove the unncessary columns\n",
    "    if 'Unnamed: 0' in df_All_NoAge.columns.to_list():\n",
    "        df_model.drop(['Unnamed: 0','Member Life ID'],axis=1,inplace=True)\n",
    "    else:\n",
    "        df_model.drop(['Member Life ID'],axis=1,inplace=True)\n",
    "    \n",
    "    #Create the predictor and target variables\n",
    "    if use_subset:\n",
    "        predictors = predictors_used[predictors_used['Model'] == target_code].to_numpy().reshape(21,).tolist()[1:]\n",
    "        X = df_model[[*predictors]]\n",
    "    else:\n",
    "        X = df_model.loc[:,df_model.columns != target_code].to_numpy()\n",
    "    y = df_model[target_code].to_numpy()\n",
    "    \n",
    "    # split into train and test sets\n",
    "    X_train, X_test, y_train, y_test = train_test_split(X, y, test_size=0.2, random_state=1)\n",
    "    \n",
    "    tf.random.set_seed(1)\n",
    "    \n",
    "    class_weights = class_weight.compute_class_weight(class_weight = \"balanced\", classes= np.unique(y_train), y= y_train)\n",
    "    class_weights = {i : class_weights[i] for i in range(2)}\n",
    "    \n",
    "    #Define a Sequential NN with 3 dense layers (2-16 units, and 1-1 unit) and sigmoid activation\n",
    "    tf_model = Sequential([\n",
    "    Dense(units=32, activation='sigmoid'),\n",
    "    Dense(units=16, activation='sigmoid'),\n",
    "    Dense(units=1, activation='sigmoid')\n",
    "    ])\n",
    "    \n",
    "    #Parameter to stop training if validation score does not improve further after 3 epochs\n",
    "    early_stopping_monitor = EarlyStopping(patience=3)\n",
    "    \n",
    "    #Compile the model with binary_crossentropy loss, and adaptive optimizer as Adam\n",
    "    tf_model.compile(loss='binary_crossentropy', optimizer='adam', metrics=['accuracy'])\n",
    "    \n",
    "    #Fit the model\n",
    "    history = tf_model.fit(X_train,y_train,epochs=20,class_weight=class_weights,verbose=0)\n",
    "    \n",
    "    #Make predictions on test data\n",
    "    y_pred = tf_model.predict(X_test)\n",
    "    \n",
    "    #Convert probabilities to a binary value\n",
    "    y_pred_nn = (y_pred > threshold).astype(np.float64)\n",
    "    \n",
    "    #AUC score\n",
    "    auc_score = roc_auc_score(y_test, y_pred)\n",
    "    \n",
    "    #Confusion Matrix\n",
    "    cm = confusion_matrix(y_test, y_pred_nn)\n",
    "    disp = ConfusionMatrixDisplay(confusion_matrix=cm)\n",
    "    disp.plot(colorbar=False)\n",
    "    plt.show()\n",
    "    \n",
    "    #Print Classification Report\n",
    "    \n",
    "    report = classification_report(y_test,y_pred_nn,output_dict=True)\n",
    "    \n",
    "    print(report)\n",
    "    \n",
    "    #plot roc_curve\n",
    "    fpr, tpr, _ = roc_curve(y_test,  y_pred)\n",
    "    plt.plot([0, 1], [0, 1], \"b--\")\n",
    "    plt.plot(fpr,tpr,label=\"AUC Score = \"+str(auc_score),color='orange')\n",
    "    plt.ylabel('True Positive Rate')\n",
    "    plt.xlabel('False Positive Rate')\n",
    "    plt.legend(loc=4)\n",
    "    plt.show()\n",
    "    #plot_training_validation_loss(history, target_code, dataset_name)\n",
    "    \n",
    "    #plot_training_validation_accuracy(history, target_code, dataset_name)\n",
    "    \n",
    "    #return(min(history.history['val_loss']))\n",
    "    return (report['1']['recall'], auc_score, report['accuracy'])"
   ]
  },
  {
   "cell_type": "code",
   "execution_count": 16,
   "id": "e35e9273",
   "metadata": {
    "scrolled": true
   },
   "outputs": [
    {
     "data": {
      "image/png": "[encoded data removed]",
      "text/plain": [
       "<Figure size 432x288 with 1 Axes>"
      ]
     },
     "metadata": {
      "needs_background": "light"
     },
     "output_type": "display_data"
    },
    {
     "name": "stdout",
     "output_type": "stream",
     "text": [
      "{'0': {'precision': 0.9703028868906768, 'recall': 0.8336891328657111, 'f1-score': 0.8968232270763847, 'support': 9837}, '1': {'precision': 0.292081350064907, 'recall': 0.7289416846652268, 'f1-score': 0.4170528266913809, 'support': 926}, 'accuracy': 0.8246771346278918, 'macro avg': {'precision': 0.6311921184777919, 'recall': 0.781315408765469, 'f1-score': 0.6569380268838828, 'support': 10763}, 'weighted avg': {'precision': 0.9119517633098291, 'recall': 0.8246771346278918, 'f1-score': 0.855545944649876, 'support': 10763}}\n"
     ]
    },
    {
     "data": {
      "image/png": "[encoded data removed]",
      "text/plain": [
       "<Figure size 432x288 with 1 Axes>"
      ]
     },
     "metadata": {
      "needs_background": "light"
     },
     "output_type": "display_data"
    },
    {
     "data": {
      "text/plain": [
       "(0.7289416846652268, 0.8659954230194064, 0.8246771346278918)"
      ]
     },
     "execution_count": 16,
     "metadata": {},
     "output_type": "execute_result"
    }
   ],
   "source": [
    "# Run the above function for a single disease using\n",
    "create_neural_network_model(df_All_Age,'E11', dataset_names[0],use_subset=False, threshold=0.5)"
   ]
  },
  {
   "cell_type": "code",
   "execution_count": 27,
   "id": "bb7678fe",
   "metadata": {},
   "outputs": [],
   "source": [
    "# #Capture the validation accuracy scores using NN model for all target codes and datasets\n",
    "\n",
    "# #Define a dictionary\n",
    "# nn_Classifier_Recall = {}\n",
    "\n",
    "\n",
    "# for base_code in target_base_codes:\n",
    "#     i=-1\n",
    "#     for dataset in datasets_for_modeling:\n",
    "#             nn_Classifier_Recall[(base_code,dataset_names[i+1])] = \\\n",
    "#             create_neural_network_model(dataset,base_code,dataset_names[i+1],use_subset=False, threshold=0.5)\n",
    "#             i=i+1\n",
    "# nn_Classifier_Recall"
   ]
  },
  {
   "cell_type": "markdown",
   "id": "e430fca6",
   "metadata": {},
   "source": [
    "### Analyzing Time-Bound datasets"
   ]
  },
  {
   "cell_type": "code",
   "execution_count": null,
   "id": "8f5cb51a",
   "metadata": {},
   "outputs": [],
   "source": [
    "# Load in the medical claims data\n",
    "medical_claims = pd.read_csv('med_full_final_melted.csv')\n",
    "\n",
    "# Load in the pharmacy claims data\n",
    "rx_claims = pd.read_csv('rx_full_final.csv')"
   ]
  },
  {
   "cell_type": "code",
   "execution_count": 18,
   "id": "e300e451",
   "metadata": {},
   "outputs": [],
   "source": [
    "# Read in all the timebound datasets\n",
    "df_TB_E11 = pd.read_csv(\"E11_with_ages_timebound.csv\")\n",
    "df_TB_N18 = pd.read_csv(\"N18_with_ages_timebound.csv\")\n",
    "df_TB_I10 = pd.read_csv(\"I10_with_ages_timebound.csv\")\n",
    "df_TB_I25 = pd.read_csv(\"I25_with_ages_timebound.csv\")\n",
    "df_TB_C50 = pd.read_csv(\"C50_with_ages_timebound.csv\")\n",
    "df_TB_C18 = pd.read_csv(\"C18_with_ages_timebound.csv\")"
   ]
  },
  {
   "cell_type": "code",
   "execution_count": 19,
   "id": "ff4545be",
   "metadata": {},
   "outputs": [],
   "source": [
    "target_base_codes =['E11','N18','I10','I25','C50','C18']"
   ]
  },
  {
   "cell_type": "code",
   "execution_count": 20,
   "id": "46dc2e94",
   "metadata": {},
   "outputs": [],
   "source": [
    "tb_datasets_for_modeling = [df_TB_E11, df_TB_N18, df_TB_I10, df_TB_I25, df_TB_C50, df_TB_C18]\n",
    "tb_dataset_names=['df_TB_E11', 'df_TB_N18', 'df_TB_I10', 'df_TB_I25','df_TB_C50','df_TB_C18']"
   ]
  },
  {
   "cell_type": "code",
   "execution_count": null,
   "id": "696b6d0e",
   "metadata": {},
   "outputs": [],
   "source": [
    "# Capture the recall, auc and accuracy scores using NN model for all timebound target codes and datasets\n",
    "\n",
    "# #Define a dictionary\n",
    "# tb_nn_Classifier = {}\n",
    "# #\n",
    "# i=-1\n",
    "# for dataset in tb_datasets_for_modeling:\n",
    "#     tb_nn_Classifier[(target_base_codes[i+1],tb_dataset_names[i+1])] = \\\n",
    "#     create_neural_network_model(dataset,target_base_codes[i+1],tb_dataset_names[i+1],use_subset=False, threshold=0.3)\n",
    "#     i=i+1"
   ]
  },
  {
   "cell_type": "code",
   "execution_count": null,
   "id": "75bc927c",
   "metadata": {},
   "outputs": [],
   "source": [
    "#tb_nn_Classifier"
   ]
  },
  {
   "cell_type": "code",
   "execution_count": 26,
   "id": "4bdb8826",
   "metadata": {},
   "outputs": [
    {
     "data": {
      "image/png": "[encoded data removed]",
      "text/plain": [
       "<Figure size 432x288 with 1 Axes>"
      ]
     },
     "metadata": {
      "needs_background": "light"
     },
     "output_type": "display_data"
    },
    {
     "name": "stdout",
     "output_type": "stream",
     "text": [
      "{'0': {'precision': 0.9791191236878137, 'recall': 0.8731176231176231, 'f1-score': 0.9230851979345954, 'support': 9828}, '1': {'precision': 0.3765, 'recall': 0.8044871794871795, 'f1-score': 0.5129427792915531, 'support': 936}, 'accuracy': 0.8671497584541062, 'macro avg': {'precision': 0.6778095618439068, 'recall': 0.8388024013024014, 'f1-score': 0.7180139886130743, 'support': 10764}, 'weighted avg': {'precision': 0.9267174607584386, 'recall': 0.8671497584541062, 'f1-score': 0.8874206397917221, 'support': 10764}}\n"
     ]
    },
    {
     "data": {
      "image/png": "[encoded data removed]",
      "text/plain": [
       "<Figure size 432x288 with 1 Axes>"
      ]
     },
     "metadata": {
      "needs_background": "light"
     },
     "output_type": "display_data"
    },
    {
     "data": {
      "text/plain": [
       "(0.8044871794871795, 0.9113338090368005, 0.8671497584541062)"
      ]
     },
     "execution_count": 26,
     "metadata": {},
     "output_type": "execute_result"
    }
   ],
   "source": [
    "create_neural_network_model(df_TB_E11,'E11', tb_dataset_names[0],use_subset=False, threshold=0.5)"
   ]
  },
  {
   "cell_type": "markdown",
   "id": "2ee2aa82",
   "metadata": {},
   "source": [
    "### Optional Code: To plot training/validation loss or accuracy. You will need to set a validation_split parameter in the tf_model.fit method in the create_neural_network_model function."
   ]
  },
  {
   "cell_type": "code",
   "execution_count": null,
   "id": "ed17b671",
   "metadata": {},
   "outputs": [],
   "source": [
    "# def plot_training_validation_loss(history, target_code, dataset_name):\n",
    "#     history_dict = history.history\n",
    "#     loss_values = history_dict['loss']\n",
    "#     val_loss_values = history_dict['val_loss']\n",
    "#     epochs = range(1, len(history_dict['accuracy']) + 1)\n",
    "#     plt.plot(epochs,loss_values,'bo',label='Training loss')\n",
    "#     plt.plot(epochs, val_loss_values,'b',label='Validation loss')\n",
    "#     plt.title('Training and validation loss'+ ' for '+ target_code + ' on '+ dataset_name +' dataset.')\n",
    "#     plt.xlabel('Epochs')\n",
    "#     plt.ylabel('Loss')\n",
    "#     plt.legend()\n",
    "#     plt.show()\n"
   ]
  },
  {
   "cell_type": "code",
   "execution_count": null,
   "id": "e2d780e7",
   "metadata": {},
   "outputs": [],
   "source": [
    "# def plot_training_validation_accuracy(history, target_code, dataset_name):\n",
    "#     history_dict = history.history\n",
    "#     history_dict = history.history\n",
    "#     acc_values = history_dict['accuracy']\n",
    "#     val_acc_values = history_dict['val_accuracy']\n",
    "#     epochs = range(1, len(history_dict['accuracy']) + 1)\n",
    "#     plt.plot(epochs, acc_values, 'bo', label='Training acc')\n",
    "#     plt.plot(epochs, val_acc_values,'b',label='Validation acc')\n",
    "#     plt.title('Training and Validation accuracy' + ' for '+ target_code + ' on '+ dataset_name +' dataset.')\n",
    "#     plt.xlabel('Epochs')\n",
    "#     plt.ylabel('Accuracy')\n",
    "#     plt.legend()\n",
    "#     plt.show()"
   ]
  },
  {
   "cell_type": "code",
   "execution_count": null,
   "id": "79946eaa",
   "metadata": {},
   "outputs": [],
   "source": []
  }
 ],
 "metadata": {
  "kernelspec": {
   "display_name": "Python 3 (ipykernel)",
   "language": "python",
   "name": "python3"
  },
  "language_info": {
   "codemirror_mode": {
    "name": "ipython",
    "version": 3
   },
   "file_extension": ".py",
   "mimetype": "text/x-python",
   "name": "python",
   "nbconvert_exporter": "python",
   "pygments_lexer": "ipython3",
   "version": "3.7.13"
  }
 },
 "nbformat": 4,
 "nbformat_minor": 5
}
