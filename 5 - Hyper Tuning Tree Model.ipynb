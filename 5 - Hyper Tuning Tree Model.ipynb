{
 "cells": [
  {
   "cell_type": "code",
   "execution_count": 1,
   "id": "b3f28101",
   "metadata": {},
   "outputs": [],
   "source": [
    "# Import required libraries\n",
    "import pandas as pd\n",
    "from sklearn.metrics import roc_curve, auc, plot_roc_curve, roc_auc_score, accuracy_score, precision_recall_curve\n",
    "from sklearn.model_selection import cross_validate, train_test_split, GridSearchCV\n",
    "from sklearn.linear_model import LogisticRegressionCV\n",
    "from sklearn.ensemble import RandomForestClassifier\n",
    "import numpy as np\n",
    "import matplotlib.pyplot as plt\n",
    "import seaborn\n",
    "from sklearn.model_selection import cross_val_score\n",
    "from sklearn.metrics import classification_report, confusion_matrix\n",
    "from random_forest_functions import *"
   ]
  },
  {
   "cell_type": "code",
   "execution_count": 2,
   "id": "d75e462c",
   "metadata": {},
   "outputs": [],
   "source": [
    "random_seed = 51"
   ]
  },
  {
   "cell_type": "code",
   "execution_count": 3,
   "id": "1e1f05cf",
   "metadata": {},
   "outputs": [
    {
     "name": "stderr",
     "output_type": "stream",
     "text": [
      "C:\\Users\\sarfu\\AppData\\Local\\Programs\\Python\\Python310\\lib\\site-packages\\IPython\\core\\interactiveshell.py:3251: DtypeWarning: Columns (4) have mixed types.Specify dtype option on import or set low_memory=False.\n",
      "  exec(code_obj, self.user_global_ns, self.user_ns)\n"
     ]
    }
   ],
   "source": [
    "# Load in the medical claims data\n",
    "medical_claims = pd.read_csv('Data/med_full_final_melted.csv')\n",
    "medical_claims\n",
    "\n",
    "# Load in the pharmacy claims data\n",
    "rx_claims = pd.read_csv('Data/rx_full_final.csv')\n",
    "\n",
    "# Load in the edges file and exclusions file\n",
    "edges = pd.read_csv('Data/edges.csv')\n",
    "exclusions = pd.read_csv('Data/exclusions.csv')\n",
    "exclusion_list = exclusions['Base Code'].to_list()"
   ]
  },
  {
   "cell_type": "code",
   "execution_count": 4,
   "id": "f4c258b0",
   "metadata": {},
   "outputs": [],
   "source": [
    "## Read All data With Ages and Without Timebound\n",
    "all_data_with_ages_without_timebound = pd.read_csv('./Data/all_data_with_ages.csv')"
   ]
  },
  {
   "cell_type": "code",
   "execution_count": 5,
   "id": "b7aba4ac",
   "metadata": {},
   "outputs": [
    {
     "name": "stdout",
     "output_type": "stream",
     "text": [
      "E11_top_20_predictor_codes are ['I10', 'E78', 'M25', 'M54', 'M79', 'E66', 'H25', 'G47', 'I25', 'K21', 'E03', 'B35', 'H40', 'N39', 'M47', 'Z86', 'D64', 'M17', 'M19', 'F41']\n",
      "C18_top_20_predictor_codes are ['I10', 'E78', 'K63', 'D12', 'M79', 'Z86', 'D64', 'M25', 'C78', 'K57', 'Z45', 'K62', 'K76', 'M54', 'N39', 'K21', 'E11', 'I25', 'Z90', 'E66']\n",
      "C50_top_20_predictor_codes are ['I10', 'E78', 'M25', 'M79', 'M54', 'N63', 'Z90', 'Z80', 'N64', 'K21', 'L82', 'H25', 'D05', 'E03', 'M85', 'F41', 'Z86', 'E11', 'N39', 'D48']\n",
      "I10_top_20_predictor_codes are ['E78', 'M25', 'M54', 'E11', 'M79', 'E66', 'K21', 'H25', 'G47', 'I25', 'F41', 'L82', 'E03', 'M47', 'M17', 'Z86', 'N39', 'M19', 'L57', 'J30']\n",
      "I25_top_20_predictor_codes are ['I10', 'E78', 'M25', 'E11', 'M79', 'M54', 'Z95', 'H25', 'K21', 'G47', 'L82', 'Z86', 'I48', 'L57', 'M47', 'D64', 'I50', 'I51', 'I49', 'M19']\n",
      "N18_top_20_predictor_codes are ['I10', 'E78', 'E11', 'I12', 'M25', 'M79', 'M54', 'I25', 'E87', 'D64', 'N17', 'N28', 'H25', 'K21', 'N39', 'I50', 'G47', 'Z86', 'I51', 'B35']\n"
     ]
    }
   ],
   "source": [
    "medical_claims_timebound = create_time_bound_claims(medical_claims, 'E11')\n",
    "(predictor_codes, code_descriptions, weights) = get_predictor_codes(edges, exclusion_list, 'E11')\n",
    "E11_predictor_codes=predictor_codes\n",
    "medical_claims_timebound = create_time_bound_claims(medical_claims, 'C18')\n",
    "(predictor_codes, code_descriptions, weights) = get_predictor_codes(edges, exclusion_list, 'C18')\n",
    "C18_predictor_codes=predictor_codes\n",
    "medical_claims_timebound = create_time_bound_claims(medical_claims, 'C50')\n",
    "(predictor_codes, code_descriptions, weights) = get_predictor_codes(edges, exclusion_list, 'C50')\n",
    "C50_predictor_codes=predictor_codes\n",
    "medical_claims_timebound = create_time_bound_claims(medical_claims, 'I10')\n",
    "(predictor_codes, code_descriptions, weights) = get_predictor_codes(edges, exclusion_list, 'I10')\n",
    "I10_predictor_codes=predictor_codes\n",
    "medical_claims_timebound = create_time_bound_claims(medical_claims, 'I25')\n",
    "(predictor_codes, code_descriptions, weights) = get_predictor_codes(edges, exclusion_list, 'I25')\n",
    "I25_predictor_codes=predictor_codes\n",
    "medical_claims_timebound = create_time_bound_claims(medical_claims, 'N18')\n",
    "(predictor_codes, code_descriptions, weights) = get_predictor_codes(edges, exclusion_list, 'N18')\n",
    "N18_predictor_codes=predictor_codes\n",
    "\n",
    "\n",
    "print(\"E11_top_20_predictor_codes are {0}\".format(E11_predictor_codes))\n",
    "print(\"C18_top_20_predictor_codes are {0}\".format(C18_predictor_codes))\n",
    "print(\"C50_top_20_predictor_codes are {0}\".format(C50_predictor_codes))\n",
    "print(\"I10_top_20_predictor_codes are {0}\".format(I10_predictor_codes))\n",
    "print(\"I25_top_20_predictor_codes are {0}\".format(I25_predictor_codes))\n",
    "print(\"N18_top_20_predictor_codes are {0}\".format(N18_predictor_codes))"
   ]
  },
  {
   "cell_type": "code",
   "execution_count": 6,
   "id": "bc3d7cd2",
   "metadata": {},
   "outputs": [
    {
     "name": "stdout",
     "output_type": "stream",
     "text": [
      "E11 Hyper Parameters: {'max_depth': 8, 'n_estimators': 400}\n"
     ]
    }
   ],
   "source": [
    "### Run it only if needed to tune the hyperparamters, predictor codes for E11 are selected based on the top 20 ICD codes associated with this Disease(based on Weight)\n",
    "\n",
    "#E11_predictor_codes=['I10','E78','M25','M54','M79','E66','H25','G47','I25','K21','E03','B35','H40','N39','M47','Z86','D64','M17','M19','F41']\n",
    "E11_random_forest_hyper_params_with_ages_without_timebound=hyperparameter_tuning(all_data_with_ages_without_timebound, 'E11', E11_predictor_codes,random_seed = 51)\n",
    "print(\"E11 Hyper Parameters:\", E11_random_forest_hyper_params_with_ages_without_timebound)"
   ]
  },
  {
   "cell_type": "code",
   "execution_count": 7,
   "id": "ccbbc3c2",
   "metadata": {},
   "outputs": [
    {
     "name": "stdout",
     "output_type": "stream",
     "text": [
      "C18_random_forest_hyper_params_with_ages_without_timebound: {'max_depth': 2, 'n_estimators': 100}\n"
     ]
    }
   ],
   "source": [
    "### Run it only if needed to tune the hyperparamters, predictor codes for C18 are selected based on the top 20 ICD codes associated with this Disease(based on Weight)\n",
    "\n",
    "#C18_predictor_codes==['I10','E78','K63','D12','M79','Z86','D64','M25','C78','K57','Z45','K62','K76','M54','N39','K21','E11','I25','Z90','E66']\n",
    "C18_random_forest_hyper_params_with_ages_without_timebound=hyperparameter_tuning(all_data_with_ages_without_timebound, 'C18', C18_predictor_codes,random_seed = 51)\n",
    "print(\"C18_random_forest_hyper_params_with_ages_without_timebound:\", C18_random_forest_hyper_params_with_ages_without_timebound)"
   ]
  },
  {
   "cell_type": "code",
   "execution_count": 8,
   "id": "74232fe8",
   "metadata": {},
   "outputs": [
    {
     "name": "stdout",
     "output_type": "stream",
     "text": [
      "C50_random_forest_hyper_params_with_ages_without_timebound: {'max_depth': 8, 'n_estimators': 200}\n"
     ]
    }
   ],
   "source": [
    "### Run it only if needed to tune the hyperparamters, predictor codes for C50 are selected based on the top 20 ICD codes associated with this Disease(based on Weight)\n",
    "\n",
    "#C50_predictor_codes=['I10','E78','M25','M79','M54','N63','Z90','Z80','N64','K21','L82','H25','D05','E03','M85','Z86','F41','E11','N39','D48']\n",
    "C50_random_forest_hyper_params_with_ages_without_timebound=hyperparameter_tuning(all_data_with_ages_without_timebound, 'C50', C50_predictor_codes,random_seed = 51)\n",
    "print(\"C50_random_forest_hyper_params_with_ages_without_timebound:\", C50_random_forest_hyper_params_with_ages_without_timebound)"
   ]
  },
  {
   "cell_type": "code",
   "execution_count": 9,
   "id": "30d79713",
   "metadata": {},
   "outputs": [
    {
     "name": "stdout",
     "output_type": "stream",
     "text": [
      "I10_random_forest_hyper_params_with_ages_without_timebound: {'max_depth': 8, 'n_estimators': 200}\n"
     ]
    }
   ],
   "source": [
    "### Run it only if needed to tune the hyperparamters, predictor codes for I10 are selected based on the top 20 ICD codes associated with this Disease(based on Weight)\n",
    "\n",
    "#I10_predictor_codes=['E78','M25','M54','E11','M79','E66','K21','H25','G47','I25','F41','L82','E03','M47','M17','Z86','N39','M19','L57','J30']\n",
    "I10_random_forest_hyper_params_with_ages_without_timebound=hyperparameter_tuning(all_data_with_ages_without_timebound, 'I10', I10_predictor_codes,random_seed = 51)\n",
    "print(\"I10_random_forest_hyper_params_with_ages_without_timebound:\", I10_random_forest_hyper_params_with_ages_without_timebound)"
   ]
  },
  {
   "cell_type": "code",
   "execution_count": 10,
   "id": "7f1659ce",
   "metadata": {},
   "outputs": [
    {
     "name": "stdout",
     "output_type": "stream",
     "text": [
      "I25_random_forest_hyper_params_with_ages_without_timebound: {'max_depth': 8, 'n_estimators': 300}\n"
     ]
    }
   ],
   "source": [
    "### Run it only if needed to tune the hyperparamters, predictor codes for I25 are selected based on the top 20 ICD codes associated with this Disease(based on Weight)\n",
    "\n",
    "#I25_predictor_codes=['I10','E78','M25','E11','M79','M54','Z95','H25','K21','G47','L82','Z86','I48','L57','M47','D64','I50','I51','I49','M19']\n",
    "I25_random_forest_hyper_params_with_ages_without_timebound=hyperparameter_tuning(all_data_with_ages_without_timebound, 'I25', I25_predictor_codes,random_seed = 51)\n",
    "print(\"I25_random_forest_hyper_params_with_ages_without_timebound:\", I25_random_forest_hyper_params_with_ages_without_timebound)"
   ]
  },
  {
   "cell_type": "code",
   "execution_count": 6,
   "id": "1ac9b9ee",
   "metadata": {
    "scrolled": true
   },
   "outputs": [
    {
     "name": "stdout",
     "output_type": "stream",
     "text": [
      "N18_random_forest_hyper_params_with_ages_without_timebound: {'max_depth': 6, 'n_estimators': 100}\n"
     ]
    }
   ],
   "source": [
    "### Run it only if needed to tune the hyperparamters, predictor codes for N18 are selected based on the top 20 ICD codes associated with this Disease(based on Weight)\n",
    "\n",
    "#N18_predictor_codes=['I10','E78','E11','I12','M25','M79','M54','I25','E87','D64','N17','N28','H25','K21','N39','I50','G47','Z86','I51','B35']\n",
    "N18_random_forest_hyper_params_with_ages_without_timebound=hyperparameter_tuning(all_data_with_ages_without_timebound, 'N18', N18_predictor_codes,random_seed = 51)\n",
    "print(\"N18_random_forest_hyper_params_with_ages_without_timebound:\", N18_random_forest_hyper_params_with_ages_without_timebound)"
   ]
  },
  {
   "cell_type": "code",
   "execution_count": 7,
   "id": "9972c3d0",
   "metadata": {},
   "outputs": [
    {
     "name": "stdout",
     "output_type": "stream",
     "text": [
      "E11_random_forest_hyper_params_with_ages_with_timebound {'max_depth': 2, 'n_estimators': 100}\n"
     ]
    }
   ],
   "source": [
    "E11_random_forest_hyper_params_with_ages_with_timebound=hyperparameter_tuning_timebound(medical_claims, rx_claims, 'E11',edges, exclusion_list,random_seed = 51)\n",
    "print(\"E11_random_forest_hyper_params_with_ages_with_timebound\",E11_random_forest_hyper_params_with_ages_with_timebound)"
   ]
  },
  {
   "cell_type": "code",
   "execution_count": 8,
   "id": "a3e9f091",
   "metadata": {},
   "outputs": [
    {
     "name": "stdout",
     "output_type": "stream",
     "text": [
      "C18_random_forest_hyper_params_with_ages_with_timebound {'max_depth': 2, 'n_estimators': 100}\n"
     ]
    }
   ],
   "source": [
    "C18_random_forest_hyper_params_with_ages_with_timebound=hyperparameter_tuning_timebound(medical_claims, rx_claims, 'C18',edges, exclusion_list,random_seed = 51)\n",
    "print(\"C18_random_forest_hyper_params_with_ages_with_timebound\",C18_random_forest_hyper_params_with_ages_with_timebound)"
   ]
  },
  {
   "cell_type": "code",
   "execution_count": 9,
   "id": "ee2299f0",
   "metadata": {},
   "outputs": [
    {
     "name": "stdout",
     "output_type": "stream",
     "text": [
      "C50_random_forest_hyper_params_with_ages_with_timebound {'max_depth': 8, 'n_estimators': 200}\n"
     ]
    }
   ],
   "source": [
    "C50_random_forest_hyper_params_with_ages_with_timebound=hyperparameter_tuning_timebound(medical_claims, rx_claims, 'C50',edges, exclusion_list,random_seed = 51)\n",
    "print(\"C50_random_forest_hyper_params_with_ages_with_timebound\",C50_random_forest_hyper_params_with_ages_with_timebound)"
   ]
  },
  {
   "cell_type": "code",
   "execution_count": 10,
   "id": "1680b790",
   "metadata": {},
   "outputs": [
    {
     "name": "stdout",
     "output_type": "stream",
     "text": [
      "I10_random_forest_hyper_params_with_ages_with_timebound {'max_depth': 8, 'n_estimators': 200}\n"
     ]
    }
   ],
   "source": [
    "I10_random_forest_hyper_params_with_ages_with_timebound=hyperparameter_tuning_timebound(medical_claims, rx_claims, 'I10',edges, exclusion_list,random_seed = 51)\n",
    "print(\"I10_random_forest_hyper_params_with_ages_with_timebound\",I10_random_forest_hyper_params_with_ages_with_timebound)"
   ]
  },
  {
   "cell_type": "code",
   "execution_count": 11,
   "id": "a6920fdf",
   "metadata": {},
   "outputs": [
    {
     "name": "stdout",
     "output_type": "stream",
     "text": [
      "I25_random_forest_hyper_params_with_ages_with_timebound {'max_depth': 8, 'n_estimators': 200}\n"
     ]
    }
   ],
   "source": [
    "I25_random_forest_hyper_params_with_ages_with_timebound=hyperparameter_tuning_timebound(medical_claims, rx_claims, 'I25',edges, exclusion_list,random_seed = 51)\n",
    "print(\"I25_random_forest_hyper_params_with_ages_with_timebound\",I25_random_forest_hyper_params_with_ages_with_timebound)"
   ]
  },
  {
   "cell_type": "code",
   "execution_count": 12,
   "id": "bb8927b4",
   "metadata": {},
   "outputs": [
    {
     "name": "stdout",
     "output_type": "stream",
     "text": [
      "N18_random_forest_hyper_params_with_ages_with_timebound {'max_depth': 2, 'n_estimators': 100}\n"
     ]
    }
   ],
   "source": [
    "N18_random_forest_hyper_params_with_ages_with_timebound=hyperparameter_tuning_timebound(medical_claims, rx_claims, 'N18',edges, exclusion_list,random_seed = 51)\n",
    "print(\"N18_random_forest_hyper_params_with_ages_with_timebound\",N18_random_forest_hyper_params_with_ages_with_timebound)"
   ]
  },
  {
   "cell_type": "code",
   "execution_count": null,
   "id": "d2f8b8ef",
   "metadata": {},
   "outputs": [],
   "source": []
  }
 ],
 "metadata": {
  "kernelspec": {
   "display_name": "Python 3 (ipykernel)",
   "language": "python",
   "name": "python3"
  },
  "language_info": {
   "codemirror_mode": {
    "name": "ipython",
    "version": 3
   },
   "file_extension": ".py",
   "mimetype": "text/x-python",
   "name": "python",
   "nbconvert_exporter": "python",
   "pygments_lexer": "ipython3",
   "version": "3.10.1"
  }
 },
 "nbformat": 4,
 "nbformat_minor": 5
}
