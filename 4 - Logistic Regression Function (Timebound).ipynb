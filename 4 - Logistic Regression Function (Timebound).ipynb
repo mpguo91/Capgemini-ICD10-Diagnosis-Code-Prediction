{
 "cells": [
  {
   "cell_type": "code",
   "execution_count": 1,
   "metadata": {},
   "outputs": [],
   "source": [
    "# Import required libraries\n",
    "import pandas as pd\n",
    "from sklearn.metrics import roc_curve, auc, plot_roc_curve, roc_auc_score, plot_confusion_matrix, confusion_matrix\n",
    "from sklearn.model_selection import cross_validate, train_test_split\n",
    "from sklearn.linear_model import LogisticRegressionCV\n",
    "import numpy as np\n",
    "import matplotlib.pyplot as plt\n",
    "\n",
    "# Import functions from the logistic_regression_functions.py file\n",
    "from logistic_regression_functions import *"
   ]
  },
  {
   "cell_type": "code",
   "execution_count": 2,
   "metadata": {},
   "outputs": [],
   "source": [
    "random_seed = 51"
   ]
  },
  {
   "cell_type": "code",
   "execution_count": 3,
   "metadata": {},
   "outputs": [
    {
     "name": "stderr",
     "output_type": "stream",
     "text": [
      "C:\\Users\\sarfu\\AppData\\Local\\Programs\\Python\\Python310\\lib\\site-packages\\IPython\\core\\interactiveshell.py:3251: DtypeWarning: Columns (4) have mixed types.Specify dtype option on import or set low_memory=False.\n",
      "  exec(code_obj, self.user_global_ns, self.user_ns)\n"
     ]
    }
   ],
   "source": [
    "# Load in the datasets\n",
    "# Load in the medical claims data\n",
    "medical_claims = pd.read_csv('Data/med_full_final_melted.csv')\n",
    "medical_claims\n",
    "\n",
    "# Load in the pharmacy claims data\n",
    "rx_claims = pd.read_csv('Data/rx_full_final.csv')\n",
    "\n",
    "# Load in the edges file and exclusions file\n",
    "edges = pd.read_csv('Data/edges.csv')\n",
    "exclusions = pd.read_csv('Data/exclusions.csv')\n",
    "exclusion_list = exclusions['Base Code'].to_list()"
   ]
  },
  {
   "cell_type": "markdown",
   "metadata": {},
   "source": [
    "Age Included Testing"
   ]
  },
  {
   "cell_type": "code",
   "execution_count": null,
   "metadata": {},
   "outputs": [],
   "source": [
    "# E11 (Type II Diabetes Mellitus)\n",
    "e11_model, e11_accuracy, e11_edge_df, e11_data_dict = gen_log_reg_model_timebound(medical_claims, rx_claims, 'E11', edges, exclusion_list, random_seed=random_seed)\n",
    "\n",
    "print(e11_accuracy)\n",
    "\n",
    "e11_auc = roc_auc_score(e11_data_dict['y_test'],e11_model.predict_proba(e11_data_dict['X_test'])[:,1])\n",
    "\n",
    "print('Area Under Curve: ' + str(e11_auc))\n",
    "\n",
    "# Plotting the ROC Curve\n",
    "e11_fpr, e11_tpr, _ = roc_curve(e11_data_dict['y_test'], e11_model.predict_proba(e11_data_dict['X_test'])[:,1])\n",
    "\n",
    "plt.figure()\n",
    "lw = 2\n",
    "plt.plot(e11_fpr, e11_tpr, color = 'darkorange', lw=lw, label = 'ROC Curve (area = %0.2f)' % e11_auc)\n",
    "plt.plot([0,1], [0,1], color='navy', lw=lw, linestyle='--')\n",
    "plt.xlim([0.0, 1.0])\n",
    "plt.ylim([0.0, 1.05])\n",
    "plt.xlabel('False Positive Rate')\n",
    "plt.ylabel('True Positive Rate')\n",
    "plt.title('E11 Type II Diabetes Mellitus ROC Curve (Timebound with Age)')\n",
    "plt.legend(loc='lower right')\n",
    "plt.show()"
   ]
  },
  {
   "cell_type": "code",
   "execution_count": null,
   "metadata": {},
   "outputs": [],
   "source": [
    "# Plot the E11 Confusion Matrix\n",
    "plot_confusion_matrix(e11_model, e11_data_dict['X_test'], e11_data_dict['y_test'])\n",
    "plt.show()"
   ]
  },
  {
   "cell_type": "code",
   "execution_count": null,
   "metadata": {},
   "outputs": [],
   "source": []
  }
 ],
 "metadata": {
  "kernelspec": {
   "display_name": "Python 3 (ipykernel)",
   "language": "python",
   "name": "python3"
  },
  "language_info": {
   "codemirror_mode": {
    "name": "ipython",
    "version": 3
   },
   "file_extension": ".py",
   "mimetype": "text/x-python",
   "name": "python",
   "nbconvert_exporter": "python",
   "pygments_lexer": "ipython3",
   "version": "3.10.1"
  },
  "vscode": {
   "interpreter": {
    "hash": "99da7c96e45b267676f096468b6a679ceefb4d92e0c3b257d6715900050faff6"
   }
  }
 },
 "nbformat": 4,
 "nbformat_minor": 2
}
