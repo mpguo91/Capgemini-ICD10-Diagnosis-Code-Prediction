{
 "cells": [
  {
   "cell_type": "code",
   "execution_count": 1,
   "id": "b3f28101",
   "metadata": {},
   "outputs": [],
   "source": [
    "# Import required libraries\n",
    "import pandas as pd\n",
    "from sklearn.metrics import roc_curve, auc, plot_roc_curve, roc_auc_score, accuracy_score, precision_recall_curve\n",
    "from sklearn.model_selection import cross_validate, train_test_split, GridSearchCV\n",
    "from sklearn.linear_model import LogisticRegressionCV\n",
    "from sklearn.ensemble import RandomForestClassifier\n",
    "import numpy as np\n",
    "import matplotlib.pyplot as plt\n",
    "import seaborn\n",
    "from sklearn.model_selection import cross_val_score\n",
    "from sklearn.metrics import classification_report, confusion_matrix\n",
    "from random_forest_functions import *\n",
    "import sys"
   ]
  },
  {
   "cell_type": "code",
   "execution_count": 2,
   "id": "d75e462c",
   "metadata": {},
   "outputs": [],
   "source": [
    "random_seed = 51"
   ]
  },
  {
   "cell_type": "code",
   "execution_count": 3,
   "id": "36bf8f36",
   "metadata": {},
   "outputs": [
    {
     "name": "stderr",
     "output_type": "stream",
     "text": [
      "C:\\Users\\sarfu\\AppData\\Local\\Programs\\Python\\Python310\\lib\\site-packages\\IPython\\core\\interactiveshell.py:3251: DtypeWarning: Columns (4) have mixed types.Specify dtype option on import or set low_memory=False.\n",
      "  exec(code_obj, self.user_global_ns, self.user_ns)\n"
     ]
    }
   ],
   "source": [
    "medical_claims = pd.read_csv('Data/med_full_final_melted.csv')\n",
    "medical_claims\n",
    "\n",
    "# Load in the pharmacy claims data\n",
    "rx_claims = pd.read_csv('Data/rx_full_final.csv')\n",
    "\n",
    "# Load in the edges file and exclusions file\n",
    "edges = pd.read_csv('Data/edges.csv')\n",
    "exclusions = pd.read_csv('Data/exclusions.csv')\n",
    "exclusion_list = exclusions['Base Code'].to_list()\n",
    "\n",
    "all_data_with_ages_without_timebound = pd.read_csv('./Data/all_data_with_ages.csv')"
   ]
  },
  {
   "cell_type": "code",
   "execution_count": 4,
   "id": "3328383d",
   "metadata": {},
   "outputs": [],
   "source": [
    "E11_random_forest_hyper_params_with_ages_without_timebound={'max_depth': 8, 'n_estimators': 300}\n",
    "C18_random_forest_hyper_params_with_ages_without_timebound={'max_depth': 2, 'n_estimators': 100}\n",
    "C50_random_forest_hyper_params_with_ages_without_timebound={'max_depth': 8, 'n_estimators': 100}\n",
    "I10_random_forest_hyper_params_with_ages_without_timebound={'max_depth': 8, 'n_estimators': 400}\n",
    "I25_random_forest_hyper_params_with_ages_without_timebound={'max_depth': 8, 'n_estimators': 300}\n",
    "N18_random_forest_hyper_params_with_ages_without_timebound={'max_depth': 6, 'n_estimators': 400}\n",
    "\n",
    "E11_random_forest_hyper_params_with_ages_with_timebound={'max_depth': 2, 'n_estimators': 100}\n",
    "C18_random_forest_hyper_params_with_ages_with_timebound={'max_depth': 2, 'n_estimators': 100}\n",
    "C50_random_forest_hyper_params_with_ages_with_timebound={'max_depth': 8, 'n_estimators': 300}\n",
    "I10_random_forest_hyper_params_with_ages_with_timebound={'max_depth': 8, 'n_estimators': 300}\n",
    "I25_random_forest_hyper_params_with_ages_with_timebound={'max_depth': 8, 'n_estimators': 100}\n",
    "N18_random_forest_hyper_params_with_ages_with_timebound={'max_depth': 6, 'n_estimators': 300}"
   ]
  },
  {
   "cell_type": "code",
   "execution_count": 5,
   "id": "839aaa59",
   "metadata": {},
   "outputs": [
    {
     "name": "stdout",
     "output_type": "stream",
     "text": [
      "E11 with age without Timebound Models Accuracy is 0.6608752206633838 and Sensitivity is 0.9228224917309813 for threshold 0.3\n",
      "E11 with age without Timebound Models Accuracy is 0.7312087707888135 and Sensitivity is 0.8743109151047409 for threshold 0.4\n",
      "E11 with age without Timebound Models Accuracy is 0.7684660410666171 and Sensitivity is 0.8291069459757442 for threshold 0.5\n",
      "\n",
      " \n",
      " \n",
      "\n",
      "E11 with age with Timebound Models Accuracy is 0.12383872166480862 and Sensitivity is 0.9989094874591058 for threshold 0.3\n",
      "E11 with age with Timebound Models Accuracy is 0.5259197324414716 and Sensitivity is 0.9487459105779716 for threshold 0.4\n",
      "E11 with age with Timebound Models Accuracy is 0.7240802675585284 and Sensitivity is 0.8047982551799345 for threshold 0.5\n"
     ]
    }
   ],
   "source": [
    "# Model for E11 with Age and Without the Timebound\n",
    "E11_with_age_without_Timebound_model, E11_with_age_without_Timebound_model_Pred_prob, E11_with_age_without_Timebound_model_pred_codes, E11_with_age_without_Timebound_model_train_test =gen_rf_model(all_data_with_ages_without_timebound, 'E11', edges, exclusion_list, E11_random_forest_hyper_params_with_ages_without_timebound)\n",
    "get_accuracy_sensitivity_for_all_threshold(E11_with_age_without_Timebound_model, E11_with_age_without_Timebound_model_train_test, E11_with_age_without_Timebound_model_Pred_prob, 'E11', input_type='without' )\n",
    "\n",
    "print(\"\\n \\n \\n\")\n",
    "\n",
    "# Model for E11 with Age and With the Timebound\n",
    "E11_with_age_with_Timebound_model, E11_with_age_with_Timebound_model_Pred_prob, E11_with_age_with_Timebound_model_pred_codes, E11_with_age_with_Timebound_model_train_test =gen_rf_model_timebound(medical_claims, rx_claims, 'E11', edges, exclusion_list, E11_random_forest_hyper_params_with_ages_with_timebound)\n",
    "get_accuracy_sensitivity_for_all_threshold(E11_with_age_with_Timebound_model, E11_with_age_with_Timebound_model_train_test, E11_with_age_with_Timebound_model_Pred_prob, 'E11', input_type='with' )"
   ]
  },
  {
   "cell_type": "code",
   "execution_count": 7,
   "id": "bd297492",
   "metadata": {},
   "outputs": [
    {
     "name": "stdout",
     "output_type": "stream",
     "text": [
      "C18 with age without Timebound Models Accuracy is 0.48722475146334665 and Sensitivity is 1.0 for threshold 0.3\n",
      "C18 with age without Timebound Models Accuracy is 0.7561088915729816 and Sensitivity is 1.0 for threshold 0.4\n",
      "C18 with age without Timebound Models Accuracy is 0.9369134999535446 and Sensitivity is 0.8571428571428571 for threshold 0.5\n",
      "\n",
      " \n",
      " \n",
      "\n",
      "C18 with age with Timebound Models Accuracy is 0.07200594629750069 and Sensitivity is 1.0 for threshold 0.3\n",
      "C18 with age with Timebound Models Accuracy is 0.5610889157298151 and Sensitivity is 0.9545454545454546 for threshold 0.4\n",
      "C18 with age with Timebound Models Accuracy is 0.7255412059834618 and Sensitivity is 0.8181818181818182 for threshold 0.5\n"
     ]
    }
   ],
   "source": [
    "# Model for C18 with Age and Without the Timebound\n",
    "C18_with_age_without_Timebound_model, C18_with_age_without_Timebound_model_Pred_prob, C18_with_age_without_Timebound_model_pred_codes, C18_with_age_without_Timebound_model_train_test =gen_rf_model(all_data_with_ages_without_timebound, 'C18', edges, exclusion_list, C18_random_forest_hyper_params_with_ages_without_timebound)\n",
    "get_accuracy_sensitivity_for_all_threshold(C18_with_age_without_Timebound_model, C18_with_age_without_Timebound_model_train_test, C18_with_age_without_Timebound_model_Pred_prob, 'C18', input_type='without' )\n",
    "\n",
    "print(\"\\n \\n \\n\")\n",
    "\n",
    "# Model for C18 with Age and With the Timebound\n",
    "C18_with_age_with_Timebound_model, C18_with_age_with_Timebound_model_Pred_prob, C18_with_age_with_Timebound_model_pred_codes, C18_with_age_with_Timebound_model_train_test =gen_rf_model_timebound(medical_claims, rx_claims, 'C18', edges, exclusion_list, C18_random_forest_hyper_params_with_ages_with_timebound)\n",
    "get_accuracy_sensitivity_for_all_threshold(C18_with_age_with_Timebound_model, C18_with_age_with_Timebound_model_train_test, C18_with_age_with_Timebound_model_Pred_prob, 'C18', input_type='with' )"
   ]
  },
  {
   "cell_type": "code",
   "execution_count": 8,
   "id": "e87f4b14",
   "metadata": {},
   "outputs": [
    {
     "name": "stdout",
     "output_type": "stream",
     "text": [
      "C50 with age without Timebound Models Accuracy is 0.7740406949735203 and Sensitivity is 0.9693877551020408 for threshold 0.3\n",
      "C50 with age without Timebound Models Accuracy is 0.7877915079438819 and Sensitivity is 0.9591836734693877 for threshold 0.4\n",
      "C50 with age without Timebound Models Accuracy is 0.8151073120877079 and Sensitivity is 0.9183673469387755 for threshold 0.5\n",
      "\n",
      " \n",
      " \n",
      "\n",
      "C50 with age with Timebound Models Accuracy is 0.7656787141131655 and Sensitivity is 0.9425287356321839 for threshold 0.3\n",
      "C50 with age with Timebound Models Accuracy is 0.8172442627520208 and Sensitivity is 0.8850574712643678 for threshold 0.4\n",
      "C50 with age with Timebound Models Accuracy is 0.8597045433429341 and Sensitivity is 0.8390804597701149 for threshold 0.5\n"
     ]
    }
   ],
   "source": [
    "# Model for C50 with Age and Without the Timebound\n",
    "C50_with_age_without_Timebound_model, C50_with_age_without_Timebound_model_Pred_prob, C50_with_age_without_Timebound_model_pred_codes, C50_with_age_without_Timebound_model_train_test =gen_rf_model(all_data_with_ages_without_timebound, 'C50', edges, exclusion_list, C50_random_forest_hyper_params_with_ages_without_timebound)\n",
    "get_accuracy_sensitivity_for_all_threshold(C50_with_age_without_Timebound_model, C50_with_age_without_Timebound_model_train_test, C50_with_age_without_Timebound_model_Pred_prob, 'C50', input_type='without' )\n",
    "\n",
    "print(\"\\n \\n \\n\")\n",
    "\n",
    "# Model for C50 with Age and With the Timebound\n",
    "C50_with_age_with_Timebound_model, C50_with_age_with_Timebound_model_Pred_prob, C50_with_age_with_Timebound_model_pred_codes, C50_with_age_with_Timebound_model_train_test =gen_rf_model_timebound(medical_claims, rx_claims, 'C50', edges, exclusion_list, C50_random_forest_hyper_params_with_ages_with_timebound)\n",
    "get_accuracy_sensitivity_for_all_threshold(C50_with_age_with_Timebound_model, C50_with_age_with_Timebound_model_train_test, C50_with_age_with_Timebound_model_Pred_prob, 'C50', input_type='with' )"
   ]
  },
  {
   "cell_type": "code",
   "execution_count": 9,
   "id": "3adf0bac",
   "metadata": {},
   "outputs": [
    {
     "name": "stdout",
     "output_type": "stream",
     "text": [
      "I10 with age without Timebound Models Accuracy is 0.6528848833968225 and Sensitivity is 0.9393684210526316 for threshold 0.3\n",
      "I10 with age without Timebound Models Accuracy is 0.7106754622317197 and Sensitivity is 0.9031578947368422 for threshold 0.4\n",
      "I10 with age without Timebound Models Accuracy is 0.7981046176716529 and Sensitivity is 0.7844210526315789 for threshold 0.5\n",
      "\n",
      " \n",
      " \n",
      "\n",
      "I10 with age with Timebound Models Accuracy is 0.6447747329307942 and Sensitivity is 0.9396984924623115 for threshold 0.3\n",
      "I10 with age with Timebound Models Accuracy is 0.7273571760334417 and Sensitivity is 0.873534338358459 for threshold 0.4\n",
      "I10 with age with Timebound Models Accuracy is 0.7756618671620994 and Sensitivity is 0.8015075376884422 for threshold 0.5\n"
     ]
    }
   ],
   "source": [
    "# Model for I10 with Age and Without the Timebound\n",
    "I10_with_age_without_Timebound_model, I10_with_age_without_Timebound_model_Pred_prob, I10_with_age_without_Timebound_model_pred_codes, I10_with_age_without_Timebound_model_train_test =gen_rf_model(all_data_with_ages_without_timebound, 'I10', edges, exclusion_list, I10_random_forest_hyper_params_with_ages_without_timebound)\n",
    "get_accuracy_sensitivity_for_all_threshold(I10_with_age_without_Timebound_model, I10_with_age_without_Timebound_model_train_test, I10_with_age_without_Timebound_model_Pred_prob, 'I10', input_type='without' )\n",
    "\n",
    "print(\"\\n \\n \\n\")\n",
    "\n",
    "# Model for I10 with Age and With the Timebound\n",
    "I10_with_age_with_Timebound_model, I10_with_age_with_Timebound_model_Pred_prob, I10_with_age_with_Timebound_model_pred_codes, I10_with_age_with_Timebound_model_train_test =gen_rf_model_timebound(medical_claims, rx_claims, 'I10', edges, exclusion_list, I10_random_forest_hyper_params_with_ages_with_timebound)\n",
    "get_accuracy_sensitivity_for_all_threshold(I10_with_age_with_Timebound_model, I10_with_age_with_Timebound_model_train_test, I10_with_age_with_Timebound_model_Pred_prob, 'I10', input_type='with' )"
   ]
  },
  {
   "cell_type": "code",
   "execution_count": 10,
   "id": "fc92baeb",
   "metadata": {},
   "outputs": [
    {
     "name": "stdout",
     "output_type": "stream",
     "text": [
      "I25 with age without Timebound Models Accuracy is 0.7169934033262102 and Sensitivity is 0.9507692307692308 for threshold 0.3\n",
      "I25 with age without Timebound Models Accuracy is 0.7734832295828301 and Sensitivity is 0.916923076923077 for threshold 0.4\n",
      "I25 with age without Timebound Models Accuracy is 0.8221685403697854 and Sensitivity is 0.8769230769230769 for threshold 0.5\n",
      "\n",
      " \n",
      " \n",
      "\n",
      "I25 with age with Timebound Models Accuracy is 0.6409922883954288 and Sensitivity is 0.9206798866855525 for threshold 0.3\n",
      "I25 with age with Timebound Models Accuracy is 0.708073957075165 and Sensitivity is 0.8640226628895185 for threshold 0.4\n",
      "I25 with age with Timebound Models Accuracy is 0.7724612096998978 and Sensitivity is 0.7762039660056658 for threshold 0.5\n"
     ]
    }
   ],
   "source": [
    "# Model for I25 with Age and Without the Timebound\n",
    "I25_with_age_without_Timebound_model, I25_with_age_without_Timebound_model_Pred_prob, I25_with_age_without_Timebound_model_pred_codes, I25_with_age_without_Timebound_model_train_test =gen_rf_model(all_data_with_ages_without_timebound, 'I25', edges, exclusion_list, I25_random_forest_hyper_params_with_ages_without_timebound)\n",
    "get_accuracy_sensitivity_for_all_threshold(I25_with_age_without_Timebound_model, I25_with_age_without_Timebound_model_train_test, I25_with_age_without_Timebound_model_Pred_prob, 'I25', input_type='without' )\n",
    "\n",
    "print(\"\\n \\n \\n\")\n",
    "\n",
    "# Model for I25 with Age and With the Timebound\n",
    "I25_with_age_with_Timebound_model, I25_with_age_with_Timebound_model_Pred_prob, I25_with_age_with_Timebound_model_pred_codes, I25_with_age_with_Timebound_model_train_test =gen_rf_model_timebound(medical_claims, rx_claims, 'I25', edges, exclusion_list, I25_random_forest_hyper_params_with_ages_with_timebound)\n",
    "get_accuracy_sensitivity_for_all_threshold(I25_with_age_with_Timebound_model, I25_with_age_with_Timebound_model_train_test, I25_with_age_with_Timebound_model_Pred_prob, 'I25', input_type='with' )"
   ]
  },
  {
   "cell_type": "code",
   "execution_count": 11,
   "id": "8c2de81f",
   "metadata": {},
   "outputs": [
    {
     "name": "stdout",
     "output_type": "stream",
     "text": [
      "N18 with age without Timebound Models Accuracy is 0.7238688098113909 and Sensitivity is 0.9393939393939394 for threshold 0.3\n",
      "N18 with age without Timebound Models Accuracy is 0.7835176066152559 and Sensitivity is 0.8848484848484849 for threshold 0.4\n",
      "N18 with age without Timebound Models Accuracy is 0.8580321471708632 and Sensitivity is 0.8242424242424242 for threshold 0.5\n",
      "\n",
      " \n",
      " \n",
      "\n",
      "N18 with age with Timebound Models Accuracy is 0.5366533494378891 and Sensitivity is 0.9025974025974026 for threshold 0.3\n",
      "N18 with age with Timebound Models Accuracy is 0.6583666264052773 and Sensitivity is 0.7987012987012987 for threshold 0.4\n",
      "N18 with age with Timebound Models Accuracy is 0.7819381213416333 and Sensitivity is 0.6688311688311688 for threshold 0.5\n"
     ]
    }
   ],
   "source": [
    "# Model for N18 with Age and Without the Timebound\n",
    "N18_with_age_without_Timebound_model, N18_with_age_without_Timebound_model_Pred_prob, N18_with_age_without_Timebound_model_pred_codes, N18_with_age_without_Timebound_model_train_test =gen_rf_model(all_data_with_ages_without_timebound, 'N18', edges, exclusion_list, N18_random_forest_hyper_params_with_ages_without_timebound)\n",
    "get_accuracy_sensitivity_for_all_threshold(N18_with_age_without_Timebound_model, N18_with_age_without_Timebound_model_train_test, N18_with_age_without_Timebound_model_Pred_prob, 'N18', input_type='without' )\n",
    "\n",
    "print(\"\\n \\n \\n\")\n",
    "\n",
    "# Model for N18 with Age and With the Timebound\n",
    "N18_with_age_with_Timebound_model, N18_with_age_with_Timebound_model_Pred_prob, N18_with_age_with_Timebound_model_pred_codes, N18_with_age_with_Timebound_model_train_test =gen_rf_model_timebound(medical_claims, rx_claims, 'N18', edges, exclusion_list, N18_random_forest_hyper_params_with_ages_with_timebound)\n",
    "get_accuracy_sensitivity_for_all_threshold(N18_with_age_with_Timebound_model, N18_with_age_with_Timebound_model_train_test, N18_with_age_with_Timebound_model_Pred_prob, 'N18', input_type='with' )"
   ]
  },
  {
   "cell_type": "code",
   "execution_count": null,
   "id": "45fc1b97",
   "metadata": {},
   "outputs": [],
   "source": []
  }
 ],
 "metadata": {
  "kernelspec": {
   "display_name": "Python 3 (ipykernel)",
   "language": "python",
   "name": "python3"
  },
  "language_info": {
   "codemirror_mode": {
    "name": "ipython",
    "version": 3
   },
   "file_extension": ".py",
   "mimetype": "text/x-python",
   "name": "python",
   "nbconvert_exporter": "python",
   "pygments_lexer": "ipython3",
   "version": "3.10.1"
  }
 },
 "nbformat": 4,
 "nbformat_minor": 5
}
